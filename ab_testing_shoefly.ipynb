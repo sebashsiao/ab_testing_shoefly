{
 "cells": [
  {
   "cell_type": "code",
   "execution_count": 1,
   "id": "initial_id",
   "metadata": {
    "collapsed": true,
    "ExecuteTime": {
     "end_time": "2023-12-13T22:55:01.716934Z",
     "start_time": "2023-12-13T22:55:01.184641Z"
    }
   },
   "outputs": [],
   "source": [
    "# modules import\n",
    "import pandas as pd"
   ]
  },
  {
   "cell_type": "code",
   "execution_count": 2,
   "outputs": [],
   "source": [
    "# read csv file\n",
    "ad_clicks = pd.read_csv('ad_clicks.csv')"
   ],
   "metadata": {
    "collapsed": false,
    "ExecuteTime": {
     "end_time": "2023-12-13T22:55:01.732690Z",
     "start_time": "2023-12-13T22:55:01.721474Z"
    }
   },
   "id": "8aec169ccae0971a"
  },
  {
   "cell_type": "code",
   "execution_count": 3,
   "outputs": [
    {
     "data": {
      "text/plain": "                                user_id utm_source           day  \\\n0  008b7c6c-7272-471e-b90e-930d548bd8d7     google  6 - Saturday   \n1  009abb94-5e14-4b6c-bb1c-4f4df7aa7557   facebook    7 - Sunday   \n2  00f5d532-ed58-4570-b6d2-768df5f41aed    twitter   2 - Tuesday   \n3  011adc64-0f44-4fd9-a0bb-f1506d2ad439     google   2 - Tuesday   \n4  012137e6-7ae7-4649-af68-205b4702169c   facebook    7 - Sunday   \n\n  ad_click_timestamp experimental_group  \n0               7:18                  A  \n1                NaN                  B  \n2                NaN                  A  \n3                NaN                  B  \n4                NaN                  B  ",
      "text/html": "<div>\n<style scoped>\n    .dataframe tbody tr th:only-of-type {\n        vertical-align: middle;\n    }\n\n    .dataframe tbody tr th {\n        vertical-align: top;\n    }\n\n    .dataframe thead th {\n        text-align: right;\n    }\n</style>\n<table border=\"1\" class=\"dataframe\">\n  <thead>\n    <tr style=\"text-align: right;\">\n      <th></th>\n      <th>user_id</th>\n      <th>utm_source</th>\n      <th>day</th>\n      <th>ad_click_timestamp</th>\n      <th>experimental_group</th>\n    </tr>\n  </thead>\n  <tbody>\n    <tr>\n      <th>0</th>\n      <td>008b7c6c-7272-471e-b90e-930d548bd8d7</td>\n      <td>google</td>\n      <td>6 - Saturday</td>\n      <td>7:18</td>\n      <td>A</td>\n    </tr>\n    <tr>\n      <th>1</th>\n      <td>009abb94-5e14-4b6c-bb1c-4f4df7aa7557</td>\n      <td>facebook</td>\n      <td>7 - Sunday</td>\n      <td>NaN</td>\n      <td>B</td>\n    </tr>\n    <tr>\n      <th>2</th>\n      <td>00f5d532-ed58-4570-b6d2-768df5f41aed</td>\n      <td>twitter</td>\n      <td>2 - Tuesday</td>\n      <td>NaN</td>\n      <td>A</td>\n    </tr>\n    <tr>\n      <th>3</th>\n      <td>011adc64-0f44-4fd9-a0bb-f1506d2ad439</td>\n      <td>google</td>\n      <td>2 - Tuesday</td>\n      <td>NaN</td>\n      <td>B</td>\n    </tr>\n    <tr>\n      <th>4</th>\n      <td>012137e6-7ae7-4649-af68-205b4702169c</td>\n      <td>facebook</td>\n      <td>7 - Sunday</td>\n      <td>NaN</td>\n      <td>B</td>\n    </tr>\n  </tbody>\n</table>\n</div>"
     },
     "execution_count": 3,
     "metadata": {},
     "output_type": "execute_result"
    }
   ],
   "source": [
    "# examine few rows\n",
    "ad_clicks.head()"
   ],
   "metadata": {
    "collapsed": false,
    "ExecuteTime": {
     "end_time": "2023-12-13T22:55:01.746998Z",
     "start_time": "2023-12-13T22:55:01.733103Z"
    }
   },
   "id": "ce2b9d97c8ee3e53"
  },
  {
   "cell_type": "code",
   "execution_count": 4,
   "outputs": [
    {
     "data": {
      "text/plain": "utm_source\nemail       255\nfacebook    504\ngoogle      680\ntwitter     215\nName: user_id, dtype: int64"
     },
     "execution_count": 4,
     "metadata": {},
     "output_type": "execute_result"
    }
   ],
   "source": [
    "# source views count\n",
    "ad_clicks.groupby(['utm_source']).user_id.count()"
   ],
   "metadata": {
    "collapsed": false,
    "ExecuteTime": {
     "end_time": "2023-12-13T22:55:01.758967Z",
     "start_time": "2023-12-13T22:55:01.753126Z"
    }
   },
   "id": "ecfbcb336d7d26b3"
  },
  {
   "cell_type": "code",
   "execution_count": 5,
   "outputs": [
    {
     "data": {
      "text/plain": "                                user_id utm_source           day  \\\n0  008b7c6c-7272-471e-b90e-930d548bd8d7     google  6 - Saturday   \n1  009abb94-5e14-4b6c-bb1c-4f4df7aa7557   facebook    7 - Sunday   \n2  00f5d532-ed58-4570-b6d2-768df5f41aed    twitter   2 - Tuesday   \n3  011adc64-0f44-4fd9-a0bb-f1506d2ad439     google   2 - Tuesday   \n4  012137e6-7ae7-4649-af68-205b4702169c   facebook    7 - Sunday   \n\n  ad_click_timestamp experimental_group  is_click  \n0               7:18                  A      True  \n1                NaN                  B     False  \n2                NaN                  A     False  \n3                NaN                  B     False  \n4                NaN                  B     False  ",
      "text/html": "<div>\n<style scoped>\n    .dataframe tbody tr th:only-of-type {\n        vertical-align: middle;\n    }\n\n    .dataframe tbody tr th {\n        vertical-align: top;\n    }\n\n    .dataframe thead th {\n        text-align: right;\n    }\n</style>\n<table border=\"1\" class=\"dataframe\">\n  <thead>\n    <tr style=\"text-align: right;\">\n      <th></th>\n      <th>user_id</th>\n      <th>utm_source</th>\n      <th>day</th>\n      <th>ad_click_timestamp</th>\n      <th>experimental_group</th>\n      <th>is_click</th>\n    </tr>\n  </thead>\n  <tbody>\n    <tr>\n      <th>0</th>\n      <td>008b7c6c-7272-471e-b90e-930d548bd8d7</td>\n      <td>google</td>\n      <td>6 - Saturday</td>\n      <td>7:18</td>\n      <td>A</td>\n      <td>True</td>\n    </tr>\n    <tr>\n      <th>1</th>\n      <td>009abb94-5e14-4b6c-bb1c-4f4df7aa7557</td>\n      <td>facebook</td>\n      <td>7 - Sunday</td>\n      <td>NaN</td>\n      <td>B</td>\n      <td>False</td>\n    </tr>\n    <tr>\n      <th>2</th>\n      <td>00f5d532-ed58-4570-b6d2-768df5f41aed</td>\n      <td>twitter</td>\n      <td>2 - Tuesday</td>\n      <td>NaN</td>\n      <td>A</td>\n      <td>False</td>\n    </tr>\n    <tr>\n      <th>3</th>\n      <td>011adc64-0f44-4fd9-a0bb-f1506d2ad439</td>\n      <td>google</td>\n      <td>2 - Tuesday</td>\n      <td>NaN</td>\n      <td>B</td>\n      <td>False</td>\n    </tr>\n    <tr>\n      <th>4</th>\n      <td>012137e6-7ae7-4649-af68-205b4702169c</td>\n      <td>facebook</td>\n      <td>7 - Sunday</td>\n      <td>NaN</td>\n      <td>B</td>\n      <td>False</td>\n    </tr>\n  </tbody>\n</table>\n</div>"
     },
     "execution_count": 5,
     "metadata": {},
     "output_type": "execute_result"
    }
   ],
   "source": [
    "# add is_click column\n",
    "ad_clicks['is_click'] = ~ad_clicks.ad_click_timestamp.isnull()\n",
    "ad_clicks.head()"
   ],
   "metadata": {
    "collapsed": false,
    "ExecuteTime": {
     "end_time": "2023-12-13T22:55:01.801164Z",
     "start_time": "2023-12-13T22:55:01.768944Z"
    }
   },
   "id": "48fdb4fb76adc5c9"
  },
  {
   "cell_type": "code",
   "execution_count": 6,
   "outputs": [
    {
     "data": {
      "text/plain": "  utm_source  is_click  user_id\n0      email     False      175\n1      email      True       80\n2   facebook     False      324\n3   facebook      True      180\n4     google     False      441\n5     google      True      239\n6    twitter     False      149\n7    twitter      True       66",
      "text/html": "<div>\n<style scoped>\n    .dataframe tbody tr th:only-of-type {\n        vertical-align: middle;\n    }\n\n    .dataframe tbody tr th {\n        vertical-align: top;\n    }\n\n    .dataframe thead th {\n        text-align: right;\n    }\n</style>\n<table border=\"1\" class=\"dataframe\">\n  <thead>\n    <tr style=\"text-align: right;\">\n      <th></th>\n      <th>utm_source</th>\n      <th>is_click</th>\n      <th>user_id</th>\n    </tr>\n  </thead>\n  <tbody>\n    <tr>\n      <th>0</th>\n      <td>email</td>\n      <td>False</td>\n      <td>175</td>\n    </tr>\n    <tr>\n      <th>1</th>\n      <td>email</td>\n      <td>True</td>\n      <td>80</td>\n    </tr>\n    <tr>\n      <th>2</th>\n      <td>facebook</td>\n      <td>False</td>\n      <td>324</td>\n    </tr>\n    <tr>\n      <th>3</th>\n      <td>facebook</td>\n      <td>True</td>\n      <td>180</td>\n    </tr>\n    <tr>\n      <th>4</th>\n      <td>google</td>\n      <td>False</td>\n      <td>441</td>\n    </tr>\n    <tr>\n      <th>5</th>\n      <td>google</td>\n      <td>True</td>\n      <td>239</td>\n    </tr>\n    <tr>\n      <th>6</th>\n      <td>twitter</td>\n      <td>False</td>\n      <td>149</td>\n    </tr>\n    <tr>\n      <th>7</th>\n      <td>twitter</td>\n      <td>True</td>\n      <td>66</td>\n    </tr>\n  </tbody>\n</table>\n</div>"
     },
     "execution_count": 6,
     "metadata": {},
     "output_type": "execute_result"
    }
   ],
   "source": [
    "# count clicks on ads from each utm_source\n",
    "clicks_by_source = ad_clicks.groupby(['utm_source', 'is_click']).user_id.count().reset_index()\n",
    "clicks_by_source"
   ],
   "metadata": {
    "collapsed": false,
    "ExecuteTime": {
     "end_time": "2023-12-13T22:55:01.824899Z",
     "start_time": "2023-12-13T22:55:01.773346Z"
    }
   },
   "id": "caa60ab47d60acb8"
  },
  {
   "cell_type": "code",
   "execution_count": 7,
   "outputs": [
    {
     "data": {
      "text/plain": "  utm_source  is_click  user_id\n1      email      True       80\n3   facebook      True      180\n5     google      True      239\n7    twitter      True       66",
      "text/html": "<div>\n<style scoped>\n    .dataframe tbody tr th:only-of-type {\n        vertical-align: middle;\n    }\n\n    .dataframe tbody tr th {\n        vertical-align: top;\n    }\n\n    .dataframe thead th {\n        text-align: right;\n    }\n</style>\n<table border=\"1\" class=\"dataframe\">\n  <thead>\n    <tr style=\"text-align: right;\">\n      <th></th>\n      <th>utm_source</th>\n      <th>is_click</th>\n      <th>user_id</th>\n    </tr>\n  </thead>\n  <tbody>\n    <tr>\n      <th>1</th>\n      <td>email</td>\n      <td>True</td>\n      <td>80</td>\n    </tr>\n    <tr>\n      <th>3</th>\n      <td>facebook</td>\n      <td>True</td>\n      <td>180</td>\n    </tr>\n    <tr>\n      <th>5</th>\n      <td>google</td>\n      <td>True</td>\n      <td>239</td>\n    </tr>\n    <tr>\n      <th>7</th>\n      <td>twitter</td>\n      <td>True</td>\n      <td>66</td>\n    </tr>\n  </tbody>\n</table>\n</div>"
     },
     "execution_count": 7,
     "metadata": {},
     "output_type": "execute_result"
    }
   ],
   "source": [
    "# elect only clicked counts\n",
    "clicks_by_source[clicks_by_source.is_click == True]"
   ],
   "metadata": {
    "collapsed": false,
    "ExecuteTime": {
     "end_time": "2023-12-13T22:55:01.837476Z",
     "start_time": "2023-12-13T22:55:01.787407Z"
    }
   },
   "id": "f1bd8e64b07d8ddd"
  },
  {
   "cell_type": "code",
   "execution_count": 8,
   "outputs": [
    {
     "data": {
      "text/plain": "is_click utm_source  False  True\n0             email    175    80\n1          facebook    324   180\n2            google    441   239\n3           twitter    149    66",
      "text/html": "<div>\n<style scoped>\n    .dataframe tbody tr th:only-of-type {\n        vertical-align: middle;\n    }\n\n    .dataframe tbody tr th {\n        vertical-align: top;\n    }\n\n    .dataframe thead th {\n        text-align: right;\n    }\n</style>\n<table border=\"1\" class=\"dataframe\">\n  <thead>\n    <tr style=\"text-align: right;\">\n      <th>is_click</th>\n      <th>utm_source</th>\n      <th>False</th>\n      <th>True</th>\n    </tr>\n  </thead>\n  <tbody>\n    <tr>\n      <th>0</th>\n      <td>email</td>\n      <td>175</td>\n      <td>80</td>\n    </tr>\n    <tr>\n      <th>1</th>\n      <td>facebook</td>\n      <td>324</td>\n      <td>180</td>\n    </tr>\n    <tr>\n      <th>2</th>\n      <td>google</td>\n      <td>441</td>\n      <td>239</td>\n    </tr>\n    <tr>\n      <th>3</th>\n      <td>twitter</td>\n      <td>149</td>\n      <td>66</td>\n    </tr>\n  </tbody>\n</table>\n</div>"
     },
     "execution_count": 8,
     "metadata": {},
     "output_type": "execute_result"
    }
   ],
   "source": [
    "# clicks pivot table\n",
    "clicks_pivot = clicks_by_source.pivot(\n",
    "  columns='is_click',\n",
    "  index= 'utm_source',\n",
    "  values= 'user_id'\n",
    ").reset_index()\n",
    "clicks_pivot"
   ],
   "metadata": {
    "collapsed": false,
    "ExecuteTime": {
     "end_time": "2023-12-13T22:55:01.839516Z",
     "start_time": "2023-12-13T22:55:01.801510Z"
    }
   },
   "id": "3f5f7492805b6ae5"
  },
  {
   "cell_type": "code",
   "execution_count": 9,
   "outputs": [
    {
     "data": {
      "text/plain": "is_click utm_source  False  True  percent_clicked\n0             email    175    80         0.313725\n1          facebook    324   180         0.357143\n2            google    441   239         0.351471\n3           twitter    149    66         0.306977",
      "text/html": "<div>\n<style scoped>\n    .dataframe tbody tr th:only-of-type {\n        vertical-align: middle;\n    }\n\n    .dataframe tbody tr th {\n        vertical-align: top;\n    }\n\n    .dataframe thead th {\n        text-align: right;\n    }\n</style>\n<table border=\"1\" class=\"dataframe\">\n  <thead>\n    <tr style=\"text-align: right;\">\n      <th>is_click</th>\n      <th>utm_source</th>\n      <th>False</th>\n      <th>True</th>\n      <th>percent_clicked</th>\n    </tr>\n  </thead>\n  <tbody>\n    <tr>\n      <th>0</th>\n      <td>email</td>\n      <td>175</td>\n      <td>80</td>\n      <td>0.313725</td>\n    </tr>\n    <tr>\n      <th>1</th>\n      <td>facebook</td>\n      <td>324</td>\n      <td>180</td>\n      <td>0.357143</td>\n    </tr>\n    <tr>\n      <th>2</th>\n      <td>google</td>\n      <td>441</td>\n      <td>239</td>\n      <td>0.351471</td>\n    </tr>\n    <tr>\n      <th>3</th>\n      <td>twitter</td>\n      <td>149</td>\n      <td>66</td>\n      <td>0.306977</td>\n    </tr>\n  </tbody>\n</table>\n</div>"
     },
     "execution_count": 9,
     "metadata": {},
     "output_type": "execute_result"
    }
   ],
   "source": [
    "# percent of clicks\n",
    "clicks_pivot['percent_clicked'] = clicks_pivot[True] / (clicks_pivot[True] + clicks_pivot[False])\n",
    "clicks_pivot"
   ],
   "metadata": {
    "collapsed": false,
    "ExecuteTime": {
     "end_time": "2023-12-13T22:55:01.858808Z",
     "start_time": "2023-12-13T22:55:01.820066Z"
    }
   },
   "id": "f73a84237bbf9794"
  },
  {
   "cell_type": "code",
   "execution_count": 10,
   "outputs": [
    {
     "data": {
      "text/plain": "  experimental_group  user_id  percentage\n0                  A      827         0.5\n1                  B      827         0.5",
      "text/html": "<div>\n<style scoped>\n    .dataframe tbody tr th:only-of-type {\n        vertical-align: middle;\n    }\n\n    .dataframe tbody tr th {\n        vertical-align: top;\n    }\n\n    .dataframe thead th {\n        text-align: right;\n    }\n</style>\n<table border=\"1\" class=\"dataframe\">\n  <thead>\n    <tr style=\"text-align: right;\">\n      <th></th>\n      <th>experimental_group</th>\n      <th>user_id</th>\n      <th>percentage</th>\n    </tr>\n  </thead>\n  <tbody>\n    <tr>\n      <th>0</th>\n      <td>A</td>\n      <td>827</td>\n      <td>0.5</td>\n    </tr>\n    <tr>\n      <th>1</th>\n      <td>B</td>\n      <td>827</td>\n      <td>0.5</td>\n    </tr>\n  </tbody>\n</table>\n</div>"
     },
     "execution_count": 10,
     "metadata": {},
     "output_type": "execute_result"
    }
   ],
   "source": [
    "# experimental ads distribution (percentage)\n",
    "exp_ads = ad_clicks.groupby('experimental_group').user_id.count().reset_index()\n",
    "exp_ads['percentage'] = exp_ads.user_id / (exp_ads.user_id.sum())\n",
    "exp_ads"
   ],
   "metadata": {
    "collapsed": false,
    "ExecuteTime": {
     "end_time": "2023-12-13T22:55:01.859785Z",
     "start_time": "2023-12-13T22:55:01.832204Z"
    }
   },
   "id": "59b3f4dcf285cf3"
  },
  {
   "cell_type": "code",
   "execution_count": 11,
   "outputs": [
    {
     "data": {
      "text/plain": "  utm_source  is_click  user_id\n0      email     False      175\n1      email      True       80\n2   facebook     False      324\n3   facebook      True      180\n4     google     False      441\n5     google      True      239\n6    twitter     False      149\n7    twitter      True       66",
      "text/html": "<div>\n<style scoped>\n    .dataframe tbody tr th:only-of-type {\n        vertical-align: middle;\n    }\n\n    .dataframe tbody tr th {\n        vertical-align: top;\n    }\n\n    .dataframe thead th {\n        text-align: right;\n    }\n</style>\n<table border=\"1\" class=\"dataframe\">\n  <thead>\n    <tr style=\"text-align: right;\">\n      <th></th>\n      <th>utm_source</th>\n      <th>is_click</th>\n      <th>user_id</th>\n    </tr>\n  </thead>\n  <tbody>\n    <tr>\n      <th>0</th>\n      <td>email</td>\n      <td>False</td>\n      <td>175</td>\n    </tr>\n    <tr>\n      <th>1</th>\n      <td>email</td>\n      <td>True</td>\n      <td>80</td>\n    </tr>\n    <tr>\n      <th>2</th>\n      <td>facebook</td>\n      <td>False</td>\n      <td>324</td>\n    </tr>\n    <tr>\n      <th>3</th>\n      <td>facebook</td>\n      <td>True</td>\n      <td>180</td>\n    </tr>\n    <tr>\n      <th>4</th>\n      <td>google</td>\n      <td>False</td>\n      <td>441</td>\n    </tr>\n    <tr>\n      <th>5</th>\n      <td>google</td>\n      <td>True</td>\n      <td>239</td>\n    </tr>\n    <tr>\n      <th>6</th>\n      <td>twitter</td>\n      <td>False</td>\n      <td>149</td>\n    </tr>\n    <tr>\n      <th>7</th>\n      <td>twitter</td>\n      <td>True</td>\n      <td>66</td>\n    </tr>\n  </tbody>\n</table>\n</div>"
     },
     "execution_count": 11,
     "metadata": {},
     "output_type": "execute_result"
    }
   ],
   "source": [
    "clicks_by_source"
   ],
   "metadata": {
    "collapsed": false,
    "ExecuteTime": {
     "end_time": "2023-12-13T22:55:01.905958Z",
     "start_time": "2023-12-13T22:55:01.841433Z"
    }
   },
   "id": "6ec7f39716959741"
  },
  {
   "cell_type": "code",
   "execution_count": 12,
   "outputs": [
    {
     "name": "stdout",
     "output_type": "stream",
     "text": [
      "is_click experimental_group  False  True\n",
      "0                         A    517   310\n",
      "1                         B    572   255\n"
     ]
    }
   ],
   "source": [
    "# which experimental Ad has a higher number of clicks\n",
    "clicks_experimental = ad_clicks.groupby(['experimental_group', 'is_click']).user_id.count().reset_index()\n",
    "# pivot table\n",
    "clicks_exp_pivot = clicks_experimental.pivot(columns='is_click', index='experimental_group', values='user_id').reset_index()\n",
    "print(clicks_exp_pivot)\n"
   ],
   "metadata": {
    "collapsed": false,
    "ExecuteTime": {
     "end_time": "2023-12-13T22:55:01.947290Z",
     "start_time": "2023-12-13T22:55:01.854995Z"
    }
   },
   "id": "ba52d814a5268bd8"
  },
  {
   "cell_type": "markdown",
   "source": [
    "Ad A has a higher perception of clicks for this A/B testing"
   ],
   "metadata": {
    "collapsed": false
   },
   "id": "cb1409e8c275f72f"
  },
  {
   "cell_type": "code",
   "execution_count": 13,
   "outputs": [],
   "source": [
    "# Task 9\n",
    "# create new dataframes a_clicks and b_clicks\n",
    "a_clicks = ad_clicks[ad_clicks.experimental_group == 'A']\n",
    "b_clicks = ad_clicks[ad_clicks.experimental_group == 'B']"
   ],
   "metadata": {
    "collapsed": false,
    "ExecuteTime": {
     "end_time": "2023-12-13T22:55:01.961420Z",
     "start_time": "2023-12-13T22:55:01.862642Z"
    }
   },
   "id": "54764765f9dcccf7"
  },
  {
   "cell_type": "code",
   "execution_count": 14,
   "outputs": [],
   "source": [
    "# Task 10\n",
    "# grougpby and pivot table Ad A and Ad B\n",
    "a_clicks = a_clicks.groupby(['is_click', 'day']).user_id.count().reset_index()\n",
    "a_clicks_pivot = a_clicks.pivot(index='day', columns='is_click', values='user_id').reset_index()\n",
    "\n",
    "b_clicks = b_clicks.groupby(['is_click', 'day']).user_id.count().reset_index()\n",
    "b_clicks_pivot = b_clicks.pivot(index='day', columns='is_click', values='user_id').reset_index()"
   ],
   "metadata": {
    "collapsed": false,
    "ExecuteTime": {
     "end_time": "2023-12-13T22:55:02.003022Z",
     "start_time": "2023-12-13T22:55:01.871343Z"
    }
   },
   "id": "c605a3585c0e3642"
  },
  {
   "cell_type": "code",
   "execution_count": 15,
   "outputs": [
    {
     "name": "stdout",
     "output_type": "stream",
     "text": [
      "is_click            day  False  True  percent_clicked\n",
      "0            1 - Monday     70    43         0.380531\n",
      "1           2 - Tuesday     76    43         0.361345\n",
      "2         3 - Wednesday     86    38         0.306452\n",
      "3          4 - Thursday     69    47         0.405172\n",
      "4            5 - Friday     77    51         0.398438\n",
      "5          6 - Saturday     73    45         0.381356\n",
      "6            7 - Sunday     66    43         0.394495\n",
      "is_click            day  False  True  percent_clicked\n",
      "0            1 - Monday     81    32         0.283186\n",
      "1           2 - Tuesday     74    45         0.378151\n",
      "2         3 - Wednesday     89    35         0.282258\n",
      "3          4 - Thursday     87    29         0.250000\n",
      "4            5 - Friday     90    38         0.296875\n",
      "5          6 - Saturday     76    42         0.355932\n",
      "6            7 - Sunday     75    34         0.311927\n"
     ]
    }
   ],
   "source": [
    "# add new column for clicks percentage of Ad A and Ad B\n",
    "a_clicks_pivot['percent_clicked'] = a_clicks_pivot[True] / (a_clicks_pivot[True] + a_clicks_pivot[False])\n",
    "print(a_clicks_pivot)\n",
    "\n",
    "b_clicks_pivot['percent_clicked'] = b_clicks_pivot[True] / (b_clicks_pivot[True] + b_clicks_pivot[False])\n",
    "print(b_clicks_pivot)\n",
    "# compare two tables and come up with conclusions"
   ],
   "metadata": {
    "collapsed": false,
    "ExecuteTime": {
     "end_time": "2023-12-13T22:55:02.007167Z",
     "start_time": "2023-12-13T22:55:01.893124Z"
    }
   },
   "id": "13a5cfa0119e8b4"
  },
  {
   "cell_type": "markdown",
   "source": [
    "# Task 11\n",
    "- Comparing the two dataframes, Ad A has an higher number of clicks by day of the week than Ad B, except for Tuesday.\n",
    "- Ad A have a higher impact of clicks than Ad B in average\n",
    "- In conclusion, Ad A is a better choise due to the performance on A/B testing"
   ],
   "metadata": {
    "collapsed": false
   },
   "id": "fcfe3db174ec3fea"
  },
  {
   "cell_type": "code",
   "execution_count": 15,
   "outputs": [],
   "source": [],
   "metadata": {
    "collapsed": false,
    "ExecuteTime": {
     "end_time": "2023-12-13T22:55:02.007464Z",
     "start_time": "2023-12-13T22:55:01.897646Z"
    }
   },
   "id": "f21ea4dc7dd118bc"
  }
 ],
 "metadata": {
  "kernelspec": {
   "display_name": "Python 3",
   "language": "python",
   "name": "python3"
  },
  "language_info": {
   "codemirror_mode": {
    "name": "ipython",
    "version": 2
   },
   "file_extension": ".py",
   "mimetype": "text/x-python",
   "name": "python",
   "nbconvert_exporter": "python",
   "pygments_lexer": "ipython2",
   "version": "2.7.6"
  }
 },
 "nbformat": 4,
 "nbformat_minor": 5
}
